{
 "cells": [
  {
   "cell_type": "markdown",
   "id": "22e6fb9e-908e-4a82-a270-892789250b0e",
   "metadata": {},
   "source": [
    "# Foundations to CNN"
   ]
  },
  {
   "cell_type": "markdown",
   "id": "83f73401-3dd1-49e3-8042-4dd2d06d77a1",
   "metadata": {},
   "source": [
    "### 1. Introduction to Convolution Operation\n",
    "- Convolution is a mathematical operation used in CNNs to extract features from input data.\n",
    "- It involves sliding a filter (or kernel) over the input data (like an image) and computing the dot product at each position."
   ]
  },
  {
   "cell_type": "code",
   "execution_count": 1,
   "id": "5adc2b2f-e051-4be3-a7d8-5ed56c35396f",
   "metadata": {},
   "outputs": [
    {
     "name": "stdout",
     "output_type": "stream",
     "text": [
      "[[-6. 14. 16.]\n",
      " [-6. 10. 12.]\n",
      " [-6.  4.  4.]]\n"
     ]
    }
   ],
   "source": [
    "import numpy as np\n",
    "\n",
    "def convolve2d(input_data, kernel):\n",
    "    kernel_height, kernel_width = kernel.shape\n",
    "    input_height, input_width = input_data.shape\n",
    "    \n",
    "    output_height = input_height - kernel_height + 1\n",
    "    output_width = input_width - kernel_width + 1\n",
    "    output = np.zeros((output_height, output_width))\n",
    "\n",
    "    for y in range(output_height):\n",
    "        for x in range(output_width):\n",
    "            output[y, x] = np.sum(input_data[y:y+kernel_height, x:x+kernel_width] * kernel)\n",
    "    \n",
    "    return output\n",
    "\n",
    "# Sample Input and Filter\n",
    "input_data = np.array([\n",
    "    [1, 2, 3, 0, 1],\n",
    "    [4, 5, 6, 1, 0],\n",
    "    [7, 8, 9, 0, 1],\n",
    "    [1, 2, 3, 4, 5],\n",
    "    [4, 5, 6, 7, 8]\n",
    "])\n",
    "kernel = np.array([\n",
    "    [1, 0, -1],\n",
    "    [1, 0, -1],\n",
    "    [1, 0, -1]\n",
    "])\n",
    "\n",
    "# Applying Convolution\n",
    "output = convolve2d(input_data, kernel)\n",
    "print(output)"
   ]
  },
  {
   "cell_type": "markdown",
   "id": "2b7be304-829c-4b50-80ac-bca6fd3a9181",
   "metadata": {},
   "source": [
    "### 2. Pooling Operations\n",
    "- Max Pooling: Selects the maximum value from each patch of the feature map.\n",
    "- Average Pooling: Computes the average value of each patch."
   ]
  },
  {
   "cell_type": "code",
   "execution_count": 2,
   "id": "442c780d-d2a7-49f9-8708-d3c64cb57072",
   "metadata": {},
   "outputs": [
    {
     "name": "stdout",
     "output_type": "stream",
     "text": [
      "[[14.]]\n"
     ]
    }
   ],
   "source": [
    "def max_pooling2d(input_data, size=2, stride=2):\n",
    "    input_height, input_width = input_data.shape\n",
    "    output_height = (input_height - size) // stride + 1\n",
    "    output_width = (input_width - size) // stride + 1\n",
    "    output = np.zeros((output_height, output_width))\n",
    "\n",
    "    for y in range(0, input_height - size + 1, stride):\n",
    "        for x in range(0, input_width - size + 1, stride):\n",
    "            output[y//stride, x//stride] = np.max(input_data[y:y+size, x:x+size])\n",
    "    \n",
    "    return output\n",
    "\n",
    "# Applying Max Pooling\n",
    "pooled_output = max_pooling2d(output)\n",
    "print(pooled_output)"
   ]
  },
  {
   "cell_type": "markdown",
   "id": "c434c321-db63-498c-9483-8fb1f951b8ba",
   "metadata": {},
   "source": [
    "### 3. CNN Components\n",
    "- Padding: Adds zeros around the input to allow the filter to slide over border areas.\n",
    "- Stride: Number of pixels by which we slide the filter over the input.\n",
    "- Filter/Kernel: A matrix that slides over the input to perform convolution."
   ]
  },
  {
   "cell_type": "markdown",
   "id": "5eef1ca7-04c4-4d57-838d-85bafaef2ed4",
   "metadata": {},
   "source": [
    "### 4. Building a Convolutional Neural Network\n",
    "- For this example, we will create a simple mood classifier with two classes (e.g., happy and sad). The dataset and exact preprocessing steps are not provided, so this is a generic example.\n",
    "\n"
   ]
  },
  {
   "cell_type": "code",
   "execution_count": 3,
   "id": "e56ce768-6591-4d9a-a9ee-4dd19a2b2945",
   "metadata": {},
   "outputs": [],
   "source": [
    "import tensorflow as tf\n",
    "from tensorflow.keras.models import Sequential\n",
    "from tensorflow.keras.layers import Conv2D, MaxPooling2D, Flatten, Dense\n",
    "\n",
    "model = Sequential([\n",
    "    Conv2D(32, (3,3), activation='relu', input_shape=(28, 28, 1)),\n",
    "    MaxPooling2D(2, 2),\n",
    "    Flatten(),\n",
    "    Dense(64, activation='relu'),\n",
    "    Dense(10, activation='softmax')\n",
    "])\n",
    "\n",
    "model.compile(optimizer='adam', loss='sparse_categorical_crossentropy', metrics=['accuracy'])"
   ]
  },
  {
   "cell_type": "markdown",
   "id": "c3840552-ef30-4c66-a3e0-bcea26528719",
   "metadata": {},
   "source": [
    "### 5. Mood Classifier Using TensorFlow Keras Sequential API\n",
    "- Sequential API: Easier for simple models with layers stacked sequentially."
   ]
  },
  {
   "cell_type": "code",
   "execution_count": 4,
   "id": "c370897f-c8da-49e0-bb48-ba40c5dc709c",
   "metadata": {},
   "outputs": [
    {
     "name": "stdout",
     "output_type": "stream",
     "text": [
      "Epoch 1/10\n",
      "4/4 [==============================] - 2s 59ms/step - loss: 1.5346 - accuracy: 0.5700\n",
      "Epoch 2/10\n",
      "4/4 [==============================] - 0s 53ms/step - loss: 0.9324 - accuracy: 0.4300\n",
      "Epoch 3/10\n",
      "4/4 [==============================] - 0s 57ms/step - loss: 0.6806 - accuracy: 0.5500\n",
      "Epoch 4/10\n",
      "4/4 [==============================] - 0s 51ms/step - loss: 0.6934 - accuracy: 0.5700\n",
      "Epoch 5/10\n",
      "4/4 [==============================] - 0s 75ms/step - loss: 0.6813 - accuracy: 0.5700\n",
      "Epoch 6/10\n",
      "4/4 [==============================] - 0s 62ms/step - loss: 0.6719 - accuracy: 0.5700\n",
      "Epoch 7/10\n",
      "4/4 [==============================] - 0s 60ms/step - loss: 0.6640 - accuracy: 0.5700\n",
      "Epoch 8/10\n",
      "4/4 [==============================] - 0s 65ms/step - loss: 0.6636 - accuracy: 0.6800\n",
      "Epoch 9/10\n",
      "4/4 [==============================] - 0s 64ms/step - loss: 0.6760 - accuracy: 0.5200\n",
      "Epoch 10/10\n",
      "4/4 [==============================] - 0s 61ms/step - loss: 0.6487 - accuracy: 0.5700\n"
     ]
    },
    {
     "data": {
      "text/plain": [
       "<keras.src.callbacks.History at 0x18919fc44f0>"
      ]
     },
     "execution_count": 4,
     "metadata": {},
     "output_type": "execute_result"
    }
   ],
   "source": [
    "import numpy as np\n",
    "import tensorflow as tf\n",
    "from tensorflow.keras.models import Sequential\n",
    "from tensorflow.keras.layers import Conv2D, MaxPooling2D, Flatten, Dense\n",
    "\n",
    "# Create the model\n",
    "model = Sequential([\n",
    "    Conv2D(16, (3, 3), activation='relu', input_shape=(64, 64, 3)),\n",
    "    MaxPooling2D(2, 2),\n",
    "    Flatten(),\n",
    "    Dense(64, activation='relu'),\n",
    "    Dense(1, activation='sigmoid')\n",
    "])\n",
    "\n",
    "# Compile the model\n",
    "model.compile(optimizer='adam', loss='binary_crossentropy', metrics=['accuracy'])\n",
    "\n",
    "# Creating Dummy Data for Demonstration\n",
    "X_train = np.random.rand(100, 64, 64, 3)  # 100 images of size 64x64 with 3 color channels\n",
    "y_train = np.random.randint(0, 2, 100)    # 100 labels (0 or 1 for binary classification)\n",
    "\n",
    "# Train the model\n",
    "model.fit(X_train, y_train, epochs=10, batch_size=32)"
   ]
  },
  {
   "cell_type": "code",
   "execution_count": null,
   "id": "12a86d11-79f2-4110-85e1-765e233185dc",
   "metadata": {},
   "outputs": [],
   "source": []
  }
 ],
 "metadata": {
  "kernelspec": {
   "display_name": "Python 3 (ipykernel)",
   "language": "python",
   "name": "python3"
  },
  "language_info": {
   "codemirror_mode": {
    "name": "ipython",
    "version": 3
   },
   "file_extension": ".py",
   "mimetype": "text/x-python",
   "name": "python",
   "nbconvert_exporter": "python",
   "pygments_lexer": "ipython3",
   "version": "3.10.9"
  }
 },
 "nbformat": 4,
 "nbformat_minor": 5
}
