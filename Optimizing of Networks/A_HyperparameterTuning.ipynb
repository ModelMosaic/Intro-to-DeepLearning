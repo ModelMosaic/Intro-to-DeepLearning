{
 "cells": [
  {
   "cell_type": "markdown",
   "id": "fc663277-7037-426e-ba27-5b6c7f86fc76",
   "metadata": {},
   "source": [
    "# Hyperparameter Tuning"
   ]
  },
  {
   "cell_type": "markdown",
   "id": "404ed00a-7e28-4ec2-af46-fc1c48402297",
   "metadata": {},
   "source": [
    "### Library"
   ]
  },
  {
   "cell_type": "code",
   "execution_count": null,
   "id": "d173e3b3-d596-4a60-a4b3-9d2fbefabbd7",
   "metadata": {},
   "outputs": [],
   "source": [
    "import tensorflow as tf"
   ]
  },
  {
   "cell_type": "markdown",
   "id": "e9fd7883-b4c4-4a0f-a47f-ad4081366b05",
   "metadata": {},
   "source": [
    "### Understanding and Creating Variables and Constants"
   ]
  },
  {
   "cell_type": "code",
   "execution_count": null,
   "id": "fb584bbe-eff7-4e1f-b2bf-760573afa9d1",
   "metadata": {},
   "outputs": [],
   "source": [
    "# Creating a TensorFlow variable\n",
    "my_variable = tf.Variable([1.0, 2.0])\n",
    "\n",
    "# Creating a TensorFlow constant\n",
    "my_constant = tf.constant([3.0, 4.0])\n",
    "\n",
    "print(\"Variable:\", my_variable)\n",
    "print(\"Constant:\", my_constant)"
   ]
  },
  {
   "cell_type": "markdown",
   "id": "3b64829c-5a0c-4c11-a4b3-53f3f79db938",
   "metadata": {},
   "source": [
    "### Building a Simple Neural Network"
   ]
  },
  {
   "cell_type": "code",
   "execution_count": null,
   "id": "3149a738-532f-4f80-87bc-f8e1ea28af8a",
   "metadata": {},
   "outputs": [],
   "source": [
    "# Define a simple sequential model\n",
    "def create_model():\n",
    "    model = tf.keras.Sequential([\n",
    "        tf.keras.layers.Dense(128, activation='relu', input_shape=(784,)),  # 128 neurons, ReLU activation\n",
    "        tf.keras.layers.BatchNormalization(),  # Apply batch normalization\n",
    "        tf.keras.layers.Dense(10)  # Output layer with 10 neurons (for 10 classes)\n",
    "    ])\n",
    "    return model"
   ]
  },
  {
   "cell_type": "markdown",
   "id": "9872274e-7bbb-4da3-ac5f-9fbba599bf4e",
   "metadata": {},
   "source": [
    "### Training the Model"
   ]
  },
  {
   "cell_type": "code",
   "execution_count": null,
   "id": "8b9eca8b-be18-4e6b-bbc7-652649def8c4",
   "metadata": {},
   "outputs": [],
   "source": [
    "# Load the MNIST dataset\n",
    "mnist = tf.keras.datasets.mnist\n",
    "(train_images, train_labels), (test_images, test_labels) = mnist.load_data()\n",
    "\n",
    "# Normalize the images to [0, 1]\n",
    "train_images, test_images = train_images / 255.0, test_images / 255.0\n",
    "\n",
    "# Flatten the images for the dense layer\n",
    "train_images = train_images.reshape((-1, 784))\n",
    "test_images = test_images.reshape((-1, 784))\n",
    "\n",
    "# Create and compile the model\n",
    "model = create_model()\n",
    "model.compile(optimizer='adam',\n",
    "              loss=tf.keras.losses.SparseCategoricalCrossentropy(from_logits=True),\n",
    "              metrics=['accuracy'])\n",
    "\n",
    "# Train the model\n",
    "model.fit(train_images, train_labels, epochs=5)\n"
   ]
  },
  {
   "cell_type": "markdown",
   "id": "eddcd602-3d00-42aa-b06c-a99cb36b2e34",
   "metadata": {},
   "source": [
    "### Hyperparameter Tuning"
   ]
  },
  {
   "cell_type": "code",
   "execution_count": null,
   "id": "6676cca1-aac8-486c-aed6-0ff3c2d3a104",
   "metadata": {},
   "outputs": [],
   "source": [
    "def train_and_evaluate_model(learning_rate, num_neurons, batch_size):\n",
    "    model = tf.keras.Sequential([\n",
    "        tf.keras.layers.Dense(num_neurons, activation='relu', input_shape=(784,)),\n",
    "        tf.keras.layers.BatchNormalization(),\n",
    "        tf.keras.layers.Dense(10)\n",
    "    ])\n",
    "\n",
    "    model.compile(optimizer=tf.keras.optimizers.Adam(learning_rate=learning_rate),\n",
    "                  loss=tf.keras.losses.SparseCategoricalCrossentropy(from_logits=True),\n",
    "                  metrics=['accuracy'])\n",
    "\n",
    "    model.fit(train_images, train_labels, batch_size=batch_size, epochs=5, verbose=0)\n",
    "    test_loss, test_acc = model.evaluate(test_images, test_labels, verbose=0)\n",
    "    return test_acc"
   ]
  },
  {
   "cell_type": "code",
   "execution_count": null,
   "id": "86c880d6-f960-4839-a4df-63bf62fcf50a",
   "metadata": {},
   "outputs": [],
   "source": [
    "learning_rates = [0.001, 0.01, 0.1]\n",
    "neuron_choices = [64, 128, 256]\n",
    "batch_sizes = [32, 64, 128]\n",
    "\n",
    "for lr in learning_rates:\n",
    "    for neurons in neuron_choices:\n",
    "        for batch_size in batch_sizes:\n",
    "            accuracy = train_and_evaluate_model(lr, neurons, batch_size)\n",
    "            print(f\"LR: {lr}, Neurons: {neurons}, Batch Size: {batch_size}, Accuracy: {accuracy:.4f}\")\n"
   ]
  },
  {
   "cell_type": "code",
   "execution_count": null,
   "id": "e4e8c33e-36f2-48de-9ac1-7a5e2ff9a3af",
   "metadata": {},
   "outputs": [],
   "source": []
  },
  {
   "cell_type": "code",
   "execution_count": null,
   "id": "1877fc20-3aa7-4728-b077-34791887317a",
   "metadata": {},
   "outputs": [],
   "source": []
  },
  {
   "cell_type": "code",
   "execution_count": null,
   "id": "de311922-8031-4690-a05d-16f54b55930d",
   "metadata": {},
   "outputs": [],
   "source": []
  }
 ],
 "metadata": {
  "kernelspec": {
   "display_name": "Python 3 (ipykernel)",
   "language": "python",
   "name": "python3"
  },
  "language_info": {
   "codemirror_mode": {
    "name": "ipython",
    "version": 3
   },
   "file_extension": ".py",
   "mimetype": "text/x-python",
   "name": "python",
   "nbconvert_exporter": "python",
   "pygments_lexer": "ipython3",
   "version": "3.10.9"
  }
 },
 "nbformat": 4,
 "nbformat_minor": 5
}
